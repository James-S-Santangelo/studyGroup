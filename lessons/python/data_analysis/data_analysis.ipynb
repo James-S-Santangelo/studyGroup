{
 "cells": [
  {
   "cell_type": "markdown",
   "metadata": {},
   "source": [
    "## Data analysis in Python\n",
    "\n",
    "## UTM Coders April 23, 2019\n",
    "\n",
    "#### **Authors:** James Santangelo and Ahmed Hasan, borrowing from [UofT Coders lesson by Derek Howard](https://github.com/UofTCoders/studyGroup/blob/gh-pages/lessons/python/pandas2/UofT-pandas.ipynb)"
   ]
  },
  {
   "cell_type": "markdown",
   "metadata": {},
   "source": [
    "## What we're assuming you know\n",
    "\n",
    "- the interpreter\n",
    "- variables\n",
    "- lists\n",
    "- indexing/slicing\n",
    "- if statements\n",
    "- for loops (and loop syntax in general)\n",
    "- functions\n",
    "\n",
    "We covered the topics above above in a previous lesson. While not essential, being familiar with them will increase your understanding of today's material. However, we'll provide reminders of key Python concepts as they come up."
   ]
  },
  {
   "cell_type": "markdown",
   "metadata": {},
   "source": [
    "## Class methods and attributes\n",
    "\n",
    "In a previous lesson, we learned how to store data in the form of:\n",
    "\n",
    "- **Variables:** `x = 5`\n",
    "- **Strings:** `my_string = 'This is a string'`\n",
    "- **Lists:** `my_list = [3, 6.7, 'three']`\n",
    "- **Dictionaries:** `my_dict = {'Apple': 'Red', 'Banana': 'Yellow'}`\n",
    "\n",
    "We also learned how to create functions to perform specific operations. For example:\n",
    "\n",
    "```\n",
    "def add_nums(x, y):\n",
    "    return x + y\n",
    "```\n",
    "\n",
    "All of these are examples of creating *objects* in Python, which can be recurrently used throughout Python programs once they are defined.\n",
    "\n",
    "Certain types of objects may have specific operations associated with them. For instance, we may want to know how many times a certain value appears in a list. Say we have the following list:"
   ]
  },
  {
   "cell_type": "code",
   "execution_count": null,
   "metadata": {},
   "outputs": [],
   "source": [
    "my_list = [1, 5, 1, 1, 3]"
   ]
  },
  {
   "cell_type": "markdown",
   "metadata": {},
   "source": [
    "How can we compute how many times the element `1` appears in the list?\n",
    "\n",
    "This is where **methods** and **attributes** come in. Methods are essentially functions that 'live within' an object type, whereas attributes instead store information about that object. In our case, there is a list method called `count` that we can use for this operation."
   ]
  },
  {
   "cell_type": "code",
   "execution_count": null,
   "metadata": {},
   "outputs": [],
   "source": [
    "my_list.count(1)"
   ]
  },
  {
   "cell_type": "markdown",
   "metadata": {},
   "source": [
    "However, the set of methods available to one object type are often quite different from those available to another. Consider string objects - when dealing with text information, we may want to convert all letters to uppercase. The string method `upper` allows us to do just that:"
   ]
  },
  {
   "cell_type": "code",
   "execution_count": null,
   "metadata": {},
   "outputs": [],
   "source": [
    "my_agency = 'nasa'\n",
    "print(my_agency.upper())"
   ]
  },
  {
   "cell_type": "markdown",
   "metadata": {},
   "source": [
    "However, list objects do not have an `upper` method. This makes intuitive sense - what is the uppercase of one or more numbers?\n",
    "\n",
    "In Python, **classes** allow related objects (e.g. data types, functions) to be logically grouped together and used throughout Python programs. If you're not used to the idea of classes, they can be a bit tricky and take some time to get the hang of. However, they are incredibly powerful and versatile, and it turns out most Python modules that users import and use are actually Python classes that contain the functionality they want. \n",
    "\n",
    "Let's walk through a (very) brief example. Understanding the basics of class structures will help us when using some of the data analysis modules later on."
   ]
  },
  {
   "cell_type": "code",
   "execution_count": null,
   "metadata": {},
   "outputs": [],
   "source": [
    "class Vehicle:\n",
    "    \"\"\"Basic class describing a vehicle\"\"\"\n",
    "    \n",
    "    num_wheels = 4\n",
    "    color = \"\"\n",
    "    \n",
    "    def description(self):\n",
    "        print(\"The vehicle is {0} and has {1} wheels\".format(self.color, self.num_wheels))\n",
    "    "
   ]
  },
  {
   "cell_type": "markdown",
   "metadata": {},
   "source": [
    "Remember, we can ask Python to provide some details about existing objects in case we've forgotten"
   ]
  },
  {
   "cell_type": "code",
   "execution_count": null,
   "metadata": {},
   "outputs": [],
   "source": [
    "help(Vehicle)"
   ]
  },
  {
   "cell_type": "markdown",
   "metadata": {},
   "source": [
    "The `help` function is telling us about the class *methods* and *attributes* for our vehicle class. Let's look at these in more detail. "
   ]
  },
  {
   "cell_type": "code",
   "execution_count": null,
   "metadata": {},
   "outputs": [],
   "source": [
    "# Create an instance of the vehicle class\n",
    "sedan = Vehicle()"
   ]
  },
  {
   "cell_type": "code",
   "execution_count": null,
   "metadata": {},
   "outputs": [],
   "source": [
    "# Access the num_wheels class attribute\n",
    "print(sedan.num_wheels)"
   ]
  },
  {
   "cell_type": "code",
   "execution_count": null,
   "metadata": {},
   "outputs": [],
   "source": [
    "# Change the sedan's color to black by modifying the color attribute\n",
    "sedan.color = \"black\"\n",
    "print(sedan.color)"
   ]
  },
  {
   "cell_type": "code",
   "execution_count": null,
   "metadata": {},
   "outputs": [],
   "source": [
    "# Get a description of the sedan using the classes \"description\" method\n",
    "sedan.description()"
   ]
  },
  {
   "cell_type": "markdown",
   "metadata": {},
   "source": [
    "As you can see, class attributes store data about the class object and methods perform operations using that data (or data from outside the class as well). The advantage here is that we can create as many instances of this class as we want, each with different attribute values. This is known as **Object-oriented programming**. "
   ]
  },
  {
   "cell_type": "markdown",
   "metadata": {},
   "source": [
    "## The numpy module"
   ]
  },
  {
   "cell_type": "markdown",
   "metadata": {},
   "source": [
    "So far, we've looked at some of the ways Python's functionality can be extended, whether by creating custom functions and classes. Naturally, this has led to programmers all over the world working to write code that can perform all sorts of useful operations. \n",
    "\n",
    "These codebases are then packaged together and disseminated to the community for free in the form of _Python libraries_ (also referred to as packages or modules). We will be looking at some of the most popular libraries for data analysis in Python for the remainder of this lesson. To begin with, we will look at `numpy`, or Numerical Python, a Python library for quick and efficient mathematical operations that actually forms the groundwork for many other Python data analysis libraries.\n",
    "\n",
    "To use any given Python library, it has to first be imported into the workspace using the `import` keyword. When importing libraries, they can be given an abbreviated name for ease of typing by using the `as` keyword."
   ]
  },
  {
   "cell_type": "code",
   "execution_count": null,
   "metadata": {},
   "outputs": [],
   "source": [
    "import numpy as np"
   ]
  },
  {
   "cell_type": "markdown",
   "metadata": {},
   "source": [
    "Now that `numpy` has been imported, any function or object that 'belongs' to `numpy` has to be prefaced with the name of the package. Since we used the `import numpy as np` syntax, we can simply type out `np` instead of `numpy`.\n",
    "\n",
    "The most fundamental `numpy` data structure is known as an `array`, which allows for computationally efficient, vectorized operations. We can create an instance of an array using the `np.array` function:"
   ]
  },
  {
   "cell_type": "code",
   "execution_count": null,
   "metadata": {},
   "outputs": [],
   "source": [
    "my_array = np.array([1, 7, 12, 6])\n",
    "my_array"
   ]
  },
  {
   "cell_type": "code",
   "execution_count": null,
   "metadata": {},
   "outputs": [],
   "source": [
    "# arrays can be indexed/sliced like lists\n",
    "print(my_array[2])\n",
    "print(my_array[1:3])"
   ]
  },
  {
   "cell_type": "code",
   "execution_count": null,
   "metadata": {},
   "outputs": [],
   "source": [
    "# operations on arrays are vectorized - much like R vectors\n",
    "print(my_array * 2)\n",
    "\n",
    "# operations on Python lists are not\n",
    "print([1, 7, 12, 6] * 2)"
   ]
  },
  {
   "cell_type": "code",
   "execution_count": null,
   "metadata": {},
   "outputs": [],
   "source": [
    "# arrays have a fixed type throughout!\n",
    "my_array[1] = 7.15\n",
    "print(my_array)"
   ]
  },
  {
   "cell_type": "markdown",
   "metadata": {},
   "source": [
    "There exist several helper functions to quickly make certain arrays instead of having to type out values:"
   ]
  },
  {
   "cell_type": "code",
   "execution_count": null,
   "metadata": {},
   "outputs": [],
   "source": [
    "print(np.arange(1, 10)) # values 1-9\n",
    "print(np.linspace(0, 10, 5)) # evenly spaces 0-10 into 5 values\n",
    "print(np.zeros(8)) # create array of 8 zeroes"
   ]
  },
  {
   "cell_type": "markdown",
   "metadata": {},
   "source": [
    "Arrays can also be two-dimensional:"
   ]
  },
  {
   "cell_type": "code",
   "execution_count": null,
   "metadata": {},
   "outputs": [],
   "source": [
    "# feed list of lists\n",
    "my_matrix = np.array([\n",
    "    [1,2,3],\n",
    "    [4,5,6],\n",
    "    [7,8,9]\n",
    "])\n",
    "\n",
    "print(my_matrix)"
   ]
  },
  {
   "cell_type": "code",
   "execution_count": null,
   "metadata": {},
   "outputs": [],
   "source": [
    "# slicing\n",
    "print(my_matrix[1,]) # row w/ index 1\n",
    "\n",
    "print(my_matrix[:,2]) # col w/ index 2\n",
    "\n",
    "# indexing - row, column\n",
    "print(my_matrix[1, 2])"
   ]
  },
  {
   "cell_type": "markdown",
   "metadata": {},
   "source": [
    "`numpy` also has helpful functions to generate random values:"
   ]
  },
  {
   "cell_type": "code",
   "execution_count": null,
   "metadata": {},
   "outputs": [],
   "source": [
    "# value between 0-1\n",
    "for i in range(0, 10):\n",
    "    print(i, np.random.random())"
   ]
  },
  {
   "cell_type": "code",
   "execution_count": null,
   "metadata": {},
   "outputs": [],
   "source": [
    "# integers between a range\n",
    "for i in range(0, 10):\n",
    "    print(i, np.random.randint(1, 10, 3)) # 3 ints between 1-10"
   ]
  },
  {
   "cell_type": "markdown",
   "metadata": {},
   "source": [
    "While we won't be covering `numpy` in much more detail, it dramatically extends the amount of numerical operations that can be done in Python, in addition to providing data types relied upon by many other libraries as well. One of these libraries just so happens to be..."
   ]
  },
  {
   "cell_type": "markdown",
   "metadata": {},
   "source": [
    "## The Pandas module"
   ]
  },
  {
   "cell_type": "markdown",
   "metadata": {},
   "source": [
    "The Pandas module provides tools for handling dataframes in Python and is commonly used among data scientists that program in Python. Here, we'll cover some of its basic functionality."
   ]
  },
  {
   "cell_type": "code",
   "execution_count": null,
   "metadata": {},
   "outputs": [],
   "source": [
    "import pandas as pd  # Import using as alias to reduce typing\n",
    "import seaborn as sns"
   ]
  },
  {
   "cell_type": "code",
   "execution_count": null,
   "metadata": {},
   "outputs": [],
   "source": [
    "iris_data = sns.load_dataset(\"iris\")\n",
    "# data = pd.read_table('/path/to/file')"
   ]
  },
  {
   "cell_type": "code",
   "execution_count": null,
   "metadata": {},
   "outputs": [],
   "source": [
    "# Note this is an instance of the DataFrame class from Pandas\n",
    "type(iris_data)"
   ]
  },
  {
   "cell_type": "code",
   "execution_count": null,
   "metadata": {},
   "outputs": [],
   "source": [
    "iris_data"
   ]
  },
  {
   "cell_type": "code",
   "execution_count": null,
   "metadata": {},
   "outputs": [],
   "source": [
    "# Show only first 10 rows\n",
    "iris_data.head(n = 10)  # Note this is a class method"
   ]
  },
  {
   "cell_type": "code",
   "execution_count": null,
   "metadata": {},
   "outputs": [],
   "source": [
    "# How many rows and columns?\n",
    "iris_data.shape  # Note this is a class attribute"
   ]
  },
  {
   "cell_type": "code",
   "execution_count": null,
   "metadata": {},
   "outputs": [],
   "source": [
    "iris_data.columns"
   ]
  },
  {
   "cell_type": "code",
   "execution_count": null,
   "metadata": {},
   "outputs": [],
   "source": [
    "iris_data.info()"
   ]
  },
  {
   "cell_type": "code",
   "execution_count": null,
   "metadata": {},
   "outputs": [],
   "source": [
    "iris_data.dtypes"
   ]
  },
  {
   "cell_type": "code",
   "execution_count": null,
   "metadata": {},
   "outputs": [],
   "source": [
    "iris_data.describe()  # Show some summary stats"
   ]
  },
  {
   "cell_type": "markdown",
   "metadata": {},
   "source": [
    "### Selecting and filtering data"
   ]
  },
  {
   "cell_type": "code",
   "execution_count": null,
   "metadata": {},
   "outputs": [],
   "source": [
    "# Select columns by passing a list of column names\n",
    "cols_to_keep = ['sepal_length', 'species']\n",
    "iris_data[cols_to_keep].head()"
   ]
  },
  {
   "cell_type": "code",
   "execution_count": null,
   "metadata": {},
   "outputs": [],
   "source": [
    "# You can retrieve individual columns using dot notation\n",
    "iris_data.sepal_length"
   ]
  },
  {
   "cell_type": "code",
   "execution_count": null,
   "metadata": {},
   "outputs": [],
   "source": [
    "# We can filter out rows by index position in the dataframe\n",
    "rows = [0, 5, 10]\n",
    "iris_data.iloc[rows]"
   ]
  },
  {
   "cell_type": "code",
   "execution_count": null,
   "metadata": {},
   "outputs": [],
   "source": [
    "# We can also just slice the dataframe directly\n",
    "iris_data[0:10]"
   ]
  },
  {
   "cell_type": "code",
   "execution_count": null,
   "metadata": {},
   "outputs": [],
   "source": [
    "# Filter based on boolean\n",
    "iris_data['species'] == 'virginica'  # Returns true/false\n",
    "iris_data[iris_data['species'] == 'virginica']  # Filter where true\n",
    "# iris_data[iris_data.species == 'virginica']"
   ]
  },
  {
   "cell_type": "code",
   "execution_count": null,
   "metadata": {},
   "outputs": [],
   "source": [
    "# Filter by multiple conditions. Note parentheses around each condition\n",
    "iris_data[(iris_data['sepal_length'] > 6) & (iris_data['sepal_length'] < 7)]"
   ]
  },
  {
   "cell_type": "code",
   "execution_count": null,
   "metadata": {},
   "outputs": [],
   "source": [
    "species_list = ['setosa', 'versicolor']\n",
    "iris_data[iris_data.species.isin(species_list)]"
   ]
  },
  {
   "cell_type": "markdown",
   "metadata": {},
   "source": [
    "### Groupby"
   ]
  },
  {
   "cell_type": "code",
   "execution_count": null,
   "metadata": {},
   "outputs": [],
   "source": [
    "# Groupby species\n",
    "species = iris_data.groupby('species')\n",
    "species  # Note the class name has changed to DataFrameGroupBy"
   ]
  },
  {
   "cell_type": "code",
   "execution_count": null,
   "metadata": {},
   "outputs": [],
   "source": [
    "len(species)"
   ]
  },
  {
   "cell_type": "code",
   "execution_count": null,
   "metadata": {},
   "outputs": [],
   "source": [
    "species.first()  # First row for each group."
   ]
  },
  {
   "cell_type": "code",
   "execution_count": null,
   "metadata": {},
   "outputs": [],
   "source": [
    "species['sepal_length'].mean()  # Mean sepal length for each species"
   ]
  },
  {
   "cell_type": "code",
   "execution_count": null,
   "metadata": {},
   "outputs": [],
   "source": [
    "# Summarize a particular group\n",
    "species.get_group('setosa').describe()"
   ]
  },
  {
   "cell_type": "code",
   "execution_count": null,
   "metadata": {},
   "outputs": [],
   "source": [
    "sorted_by_sepalLength = iris_data.sort_values('sepal_length', ascending=False)\n",
    "sorted_by_sepalLength.head()"
   ]
  },
  {
   "cell_type": "markdown",
   "metadata": {},
   "source": [
    "## Visualisation"
   ]
  },
  {
   "cell_type": "code",
   "execution_count": null,
   "metadata": {},
   "outputs": [],
   "source": [
    "%matplotlib inline  # Required for plots to show below cells"
   ]
  },
  {
   "cell_type": "code",
   "execution_count": null,
   "metadata": {},
   "outputs": [],
   "source": [
    "# Histogram of sepal length\n",
    "iris_data['sepal_length'].plot.hist(bins=100)"
   ]
  },
  {
   "cell_type": "code",
   "execution_count": null,
   "metadata": {},
   "outputs": [],
   "source": [
    "# Scatterplot \n",
    "iris_data.plot(x='sepal_length',y='sepal_width',kind='scatter')"
   ]
  },
  {
   "cell_type": "code",
   "execution_count": null,
   "metadata": {},
   "outputs": [],
   "source": [
    "# Seaborn is a wrapper around matplotlib that makes plotting a bit easier.\n",
    "sns.relplot(data = iris_data, x='petal_length', y='petal_width')"
   ]
  },
  {
   "cell_type": "code",
   "execution_count": null,
   "metadata": {},
   "outputs": [],
   "source": [
    "# It's trivial to color by species using the 'hue' argument\n",
    "sns.relplot(data = iris_data, x='petal_length', y='petal_width', hue = 'species')"
   ]
  },
  {
   "cell_type": "code",
   "execution_count": null,
   "metadata": {},
   "outputs": [],
   "source": [
    "# All species and response variables\n",
    "sns.pairplot(iris_data, hue='species', height=2.5)"
   ]
  },
  {
   "cell_type": "code",
   "execution_count": null,
   "metadata": {},
   "outputs": [],
   "source": [
    "sns.jointplot(\"sepal_length\", \"sepal_width\", kind='reg', data = iris_data);"
   ]
  },
  {
   "cell_type": "code",
   "execution_count": null,
   "metadata": {},
   "outputs": [],
   "source": []
  }
 ],
 "metadata": {
  "kernelspec": {
   "display_name": "Python [default]",
   "language": "python",
   "name": "python3"
  },
  "language_info": {
   "codemirror_mode": {
    "name": "ipython",
    "version": 3
   },
   "file_extension": ".py",
   "mimetype": "text/x-python",
   "name": "python",
   "nbconvert_exporter": "python",
   "pygments_lexer": "ipython3",
   "version": "3.5.2"
  }
 },
 "nbformat": 4,
 "nbformat_minor": 2
}
